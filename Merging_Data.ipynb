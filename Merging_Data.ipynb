{
 "cells": [
  {
   "cell_type": "code",
   "execution_count": 34,
   "metadata": {},
   "outputs": [],
   "source": [
    "import pandas as pd"
   ]
  },
  {
   "cell_type": "markdown",
   "metadata": {},
   "source": [
    "### Creating a funtion that will load csv files directly"
   ]
  },
  {
   "cell_type": "code",
   "execution_count": 39,
   "metadata": {},
   "outputs": [],
   "source": [
    "def process_file(path, name):\n",
    "    file = pd.read_csv('dj/' + path + '.csv', index_col=0, parse_dates=True)\n",
    "    file.drop(['Open', 'High', 'Low', 'Adj Close', 'Volume', 'Movements'], axis=1, inplace=True)\n",
    "    file.rename({'Close': name+'_close'},axis=1, inplace=True)\n",
    "    return file\n"
   ]
  },
  {
   "cell_type": "code",
   "execution_count": 45,
   "metadata": {},
   "outputs": [
    {
     "name": "stderr",
     "output_type": "stream",
     "text": [
      "C:\\Users\\Idris Khan\\AppData\\Local\\Temp\\ipykernel_13200\\1213244593.py:2: UserWarning: Parsing dates in %d/%m/%Y format when dayfirst=False (the default) was specified. Pass `dayfirst=True` or specify a format to silence this warning.\n",
      "  file = pd.read_csv('dj/' + path + '.csv', index_col=0, parse_dates=True)\n",
      "C:\\Users\\Idris Khan\\AppData\\Local\\Temp\\ipykernel_13200\\1213244593.py:2: UserWarning: Parsing dates in %d/%m/%Y format when dayfirst=False (the default) was specified. Pass `dayfirst=True` or specify a format to silence this warning.\n",
      "  file = pd.read_csv('dj/' + path + '.csv', index_col=0, parse_dates=True)\n",
      "C:\\Users\\Idris Khan\\AppData\\Local\\Temp\\ipykernel_13200\\1213244593.py:2: UserWarning: Parsing dates in %d/%m/%Y format when dayfirst=False (the default) was specified. Pass `dayfirst=True` or specify a format to silence this warning.\n",
      "  file = pd.read_csv('dj/' + path + '.csv', index_col=0, parse_dates=True)\n",
      "C:\\Users\\Idris Khan\\AppData\\Local\\Temp\\ipykernel_13200\\1213244593.py:2: UserWarning: Parsing dates in %d/%m/%Y format when dayfirst=False (the default) was specified. Pass `dayfirst=True` or specify a format to silence this warning.\n",
      "  file = pd.read_csv('dj/' + path + '.csv', index_col=0, parse_dates=True)\n",
      "C:\\Users\\Idris Khan\\AppData\\Local\\Temp\\ipykernel_13200\\1213244593.py:2: UserWarning: Parsing dates in %d/%m/%Y format when dayfirst=False (the default) was specified. Pass `dayfirst=True` or specify a format to silence this warning.\n",
      "  file = pd.read_csv('dj/' + path + '.csv', index_col=0, parse_dates=True)\n",
      "C:\\Users\\Idris Khan\\AppData\\Local\\Temp\\ipykernel_13200\\1213244593.py:2: UserWarning: Parsing dates in %d/%m/%Y format when dayfirst=False (the default) was specified. Pass `dayfirst=True` or specify a format to silence this warning.\n",
      "  file = pd.read_csv('dj/' + path + '.csv', index_col=0, parse_dates=True)\n",
      "C:\\Users\\Idris Khan\\AppData\\Local\\Temp\\ipykernel_13200\\1213244593.py:2: UserWarning: Parsing dates in %d/%m/%Y format when dayfirst=False (the default) was specified. Pass `dayfirst=True` or specify a format to silence this warning.\n",
      "  file = pd.read_csv('dj/' + path + '.csv', index_col=0, parse_dates=True)\n",
      "C:\\Users\\Idris Khan\\AppData\\Local\\Temp\\ipykernel_13200\\1213244593.py:2: UserWarning: Parsing dates in %d/%m/%Y format when dayfirst=False (the default) was specified. Pass `dayfirst=True` or specify a format to silence this warning.\n",
      "  file = pd.read_csv('dj/' + path + '.csv', index_col=0, parse_dates=True)\n",
      "C:\\Users\\Idris Khan\\AppData\\Local\\Temp\\ipykernel_13200\\1213244593.py:2: UserWarning: Parsing dates in %d/%m/%Y format when dayfirst=False (the default) was specified. Pass `dayfirst=True` or specify a format to silence this warning.\n",
      "  file = pd.read_csv('dj/' + path + '.csv', index_col=0, parse_dates=True)\n",
      "C:\\Users\\Idris Khan\\AppData\\Local\\Temp\\ipykernel_13200\\1213244593.py:2: UserWarning: Parsing dates in %d/%m/%Y format when dayfirst=False (the default) was specified. Pass `dayfirst=True` or specify a format to silence this warning.\n",
      "  file = pd.read_csv('dj/' + path + '.csv', index_col=0, parse_dates=True)\n",
      "C:\\Users\\Idris Khan\\AppData\\Local\\Temp\\ipykernel_13200\\1213244593.py:2: UserWarning: Parsing dates in %d/%m/%Y format when dayfirst=False (the default) was specified. Pass `dayfirst=True` or specify a format to silence this warning.\n",
      "  file = pd.read_csv('dj/' + path + '.csv', index_col=0, parse_dates=True)\n",
      "C:\\Users\\Idris Khan\\AppData\\Local\\Temp\\ipykernel_13200\\1213244593.py:2: UserWarning: Parsing dates in %d/%m/%Y format when dayfirst=False (the default) was specified. Pass `dayfirst=True` or specify a format to silence this warning.\n",
      "  file = pd.read_csv('dj/' + path + '.csv', index_col=0, parse_dates=True)\n",
      "C:\\Users\\Idris Khan\\AppData\\Local\\Temp\\ipykernel_13200\\1213244593.py:2: UserWarning: Parsing dates in %d/%m/%Y format when dayfirst=False (the default) was specified. Pass `dayfirst=True` or specify a format to silence this warning.\n",
      "  file = pd.read_csv('dj/' + path + '.csv', index_col=0, parse_dates=True)\n",
      "C:\\Users\\Idris Khan\\AppData\\Local\\Temp\\ipykernel_13200\\1213244593.py:2: UserWarning: Parsing dates in %d/%m/%Y format when dayfirst=False (the default) was specified. Pass `dayfirst=True` or specify a format to silence this warning.\n",
      "  file = pd.read_csv('dj/' + path + '.csv', index_col=0, parse_dates=True)\n",
      "C:\\Users\\Idris Khan\\AppData\\Local\\Temp\\ipykernel_13200\\1213244593.py:2: UserWarning: Parsing dates in %d/%m/%Y format when dayfirst=False (the default) was specified. Pass `dayfirst=True` or specify a format to silence this warning.\n",
      "  file = pd.read_csv('dj/' + path + '.csv', index_col=0, parse_dates=True)\n",
      "C:\\Users\\Idris Khan\\AppData\\Local\\Temp\\ipykernel_13200\\1213244593.py:2: UserWarning: Parsing dates in %d/%m/%Y format when dayfirst=False (the default) was specified. Pass `dayfirst=True` or specify a format to silence this warning.\n",
      "  file = pd.read_csv('dj/' + path + '.csv', index_col=0, parse_dates=True)\n",
      "C:\\Users\\Idris Khan\\AppData\\Local\\Temp\\ipykernel_13200\\1213244593.py:2: UserWarning: Parsing dates in %d/%m/%Y format when dayfirst=False (the default) was specified. Pass `dayfirst=True` or specify a format to silence this warning.\n",
      "  file = pd.read_csv('dj/' + path + '.csv', index_col=0, parse_dates=True)\n",
      "C:\\Users\\Idris Khan\\AppData\\Local\\Temp\\ipykernel_13200\\1213244593.py:2: UserWarning: Parsing dates in %d/%m/%Y format when dayfirst=False (the default) was specified. Pass `dayfirst=True` or specify a format to silence this warning.\n",
      "  file = pd.read_csv('dj/' + path + '.csv', index_col=0, parse_dates=True)\n",
      "C:\\Users\\Idris Khan\\AppData\\Local\\Temp\\ipykernel_13200\\1213244593.py:2: UserWarning: Parsing dates in %d/%m/%Y format when dayfirst=False (the default) was specified. Pass `dayfirst=True` or specify a format to silence this warning.\n",
      "  file = pd.read_csv('dj/' + path + '.csv', index_col=0, parse_dates=True)\n",
      "C:\\Users\\Idris Khan\\AppData\\Local\\Temp\\ipykernel_13200\\1213244593.py:2: UserWarning: Parsing dates in %d/%m/%Y format when dayfirst=False (the default) was specified. Pass `dayfirst=True` or specify a format to silence this warning.\n",
      "  file = pd.read_csv('dj/' + path + '.csv', index_col=0, parse_dates=True)\n",
      "C:\\Users\\Idris Khan\\AppData\\Local\\Temp\\ipykernel_13200\\1213244593.py:2: UserWarning: Parsing dates in %d/%m/%Y format when dayfirst=False (the default) was specified. Pass `dayfirst=True` or specify a format to silence this warning.\n",
      "  file = pd.read_csv('dj/' + path + '.csv', index_col=0, parse_dates=True)\n",
      "C:\\Users\\Idris Khan\\AppData\\Local\\Temp\\ipykernel_13200\\1213244593.py:2: UserWarning: Parsing dates in %d/%m/%Y format when dayfirst=False (the default) was specified. Pass `dayfirst=True` or specify a format to silence this warning.\n",
      "  file = pd.read_csv('dj/' + path + '.csv', index_col=0, parse_dates=True)\n",
      "C:\\Users\\Idris Khan\\AppData\\Local\\Temp\\ipykernel_13200\\1213244593.py:2: UserWarning: Parsing dates in %d/%m/%Y format when dayfirst=False (the default) was specified. Pass `dayfirst=True` or specify a format to silence this warning.\n",
      "  file = pd.read_csv('dj/' + path + '.csv', index_col=0, parse_dates=True)\n",
      "C:\\Users\\Idris Khan\\AppData\\Local\\Temp\\ipykernel_13200\\1213244593.py:2: UserWarning: Parsing dates in %d/%m/%Y format when dayfirst=False (the default) was specified. Pass `dayfirst=True` or specify a format to silence this warning.\n",
      "  file = pd.read_csv('dj/' + path + '.csv', index_col=0, parse_dates=True)\n",
      "C:\\Users\\Idris Khan\\AppData\\Local\\Temp\\ipykernel_13200\\1213244593.py:2: UserWarning: Parsing dates in %d/%m/%Y format when dayfirst=False (the default) was specified. Pass `dayfirst=True` or specify a format to silence this warning.\n",
      "  file = pd.read_csv('dj/' + path + '.csv', index_col=0, parse_dates=True)\n",
      "C:\\Users\\Idris Khan\\AppData\\Local\\Temp\\ipykernel_13200\\1213244593.py:2: UserWarning: Parsing dates in %d/%m/%Y format when dayfirst=False (the default) was specified. Pass `dayfirst=True` or specify a format to silence this warning.\n",
      "  file = pd.read_csv('dj/' + path + '.csv', index_col=0, parse_dates=True)\n",
      "C:\\Users\\Idris Khan\\AppData\\Local\\Temp\\ipykernel_13200\\1213244593.py:2: UserWarning: Parsing dates in %d/%m/%Y format when dayfirst=False (the default) was specified. Pass `dayfirst=True` or specify a format to silence this warning.\n",
      "  file = pd.read_csv('dj/' + path + '.csv', index_col=0, parse_dates=True)\n",
      "C:\\Users\\Idris Khan\\AppData\\Local\\Temp\\ipykernel_13200\\1213244593.py:2: UserWarning: Parsing dates in %d/%m/%Y format when dayfirst=False (the default) was specified. Pass `dayfirst=True` or specify a format to silence this warning.\n",
      "  file = pd.read_csv('dj/' + path + '.csv', index_col=0, parse_dates=True)\n",
      "C:\\Users\\Idris Khan\\AppData\\Local\\Temp\\ipykernel_13200\\1213244593.py:2: UserWarning: Parsing dates in %d/%m/%Y format when dayfirst=False (the default) was specified. Pass `dayfirst=True` or specify a format to silence this warning.\n",
      "  file = pd.read_csv('dj/' + path + '.csv', index_col=0, parse_dates=True)\n",
      "C:\\Users\\Idris Khan\\AppData\\Local\\Temp\\ipykernel_13200\\1213244593.py:2: UserWarning: Parsing dates in %d/%m/%Y format when dayfirst=False (the default) was specified. Pass `dayfirst=True` or specify a format to silence this warning.\n",
      "  file = pd.read_csv('dj/' + path + '.csv', index_col=0, parse_dates=True)\n"
     ]
    }
   ],
   "source": [
    "# List of file names\n",
    "file_names = ['AAPL', 'AMGN', 'AXP','BA','CAT','CRM','CSCO','CVX','DIS','DOW','GS','HD','HON','IBM','INTC','JNJ','JPM','KO','MCD','MMM','MRK','MSFT','NKE','PG','TRV','UNH','V','VZ','WBA','WMT']  # Add all your file names here\n",
    "\n",
    "# Dictionary to store processed DataFrames\n",
    "data = {}\n",
    "\n",
    "# Loop through file names and process each file\n",
    "for name in file_names:\n",
    "    data[name] = process_file(name, name)\n",
    "\n",
    "# Daata is a dictionary where keys are file names and values are processed DataFrames\n",
    "# We can access each DataFrame using its file name as the key, e.g., data['AAPL']\n"
   ]
  },
  {
   "cell_type": "code",
   "execution_count": 46,
   "metadata": {},
   "outputs": [
    {
     "data": {
      "text/html": [
       "<div>\n",
       "<style scoped>\n",
       "    .dataframe tbody tr th:only-of-type {\n",
       "        vertical-align: middle;\n",
       "    }\n",
       "\n",
       "    .dataframe tbody tr th {\n",
       "        vertical-align: top;\n",
       "    }\n",
       "\n",
       "    .dataframe thead th {\n",
       "        text-align: right;\n",
       "    }\n",
       "</style>\n",
       "<table border=\"1\" class=\"dataframe\">\n",
       "  <thead>\n",
       "    <tr style=\"text-align: right;\">\n",
       "      <th></th>\n",
       "      <th>AMGN_close</th>\n",
       "    </tr>\n",
       "    <tr>\n",
       "      <th>Date</th>\n",
       "      <th></th>\n",
       "    </tr>\n",
       "  </thead>\n",
       "  <tbody>\n",
       "    <tr>\n",
       "      <th>2023-02-13</th>\n",
       "      <td>243.660004</td>\n",
       "    </tr>\n",
       "    <tr>\n",
       "      <th>2023-02-14</th>\n",
       "      <td>241.029999</td>\n",
       "    </tr>\n",
       "    <tr>\n",
       "      <th>2023-02-15</th>\n",
       "      <td>240.070007</td>\n",
       "    </tr>\n",
       "    <tr>\n",
       "      <th>2023-02-16</th>\n",
       "      <td>234.220001</td>\n",
       "    </tr>\n",
       "    <tr>\n",
       "      <th>2023-02-17</th>\n",
       "      <td>240.529999</td>\n",
       "    </tr>\n",
       "  </tbody>\n",
       "</table>\n",
       "</div>"
      ],
      "text/plain": [
       "            AMGN_close\n",
       "Date                  \n",
       "2023-02-13  243.660004\n",
       "2023-02-14  241.029999\n",
       "2023-02-15  240.070007\n",
       "2023-02-16  234.220001\n",
       "2023-02-17  240.529999"
      ]
     },
     "execution_count": 46,
     "metadata": {},
     "output_type": "execute_result"
    }
   ],
   "source": [
    "AMGN.head()"
   ]
  },
  {
   "cell_type": "code",
   "execution_count": null,
   "metadata": {},
   "outputs": [],
   "source": []
  }
 ],
 "metadata": {
  "kernelspec": {
   "display_name": "Python 3",
   "language": "python",
   "name": "python3"
  },
  "language_info": {
   "codemirror_mode": {
    "name": "ipython",
    "version": 3
   },
   "file_extension": ".py",
   "mimetype": "text/x-python",
   "name": "python",
   "nbconvert_exporter": "python",
   "pygments_lexer": "ipython3",
   "version": "3.12.2"
  }
 },
 "nbformat": 4,
 "nbformat_minor": 2
}
